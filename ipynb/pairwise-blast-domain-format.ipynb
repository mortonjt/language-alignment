{
 "cells": [
  {
   "cell_type": "markdown",
   "metadata": {},
   "source": [
    "This notebook is designed to format the blast results into a format for benchmarking alignment comparisons in `pairwise-domain-benchmark.ipynb`"
   ]
  },
  {
   "cell_type": "code",
   "execution_count": null,
   "metadata": {},
   "outputs": [],
   "source": [
    "import pandas as pd\n",
    "import numpy as np\n",
    "import matplotlib.pyplot as plt\n",
    "from functools import reduce\n",
    "from Bio import SeqIO\n",
    "%matplotlib inline"
   ]
  },
  {
   "cell_type": "code",
   "execution_count": null,
   "metadata": {},
   "outputs": [],
   "source": [
    "# Careful the file paths in this notebook may have to change according to the\n",
    "# local file paths \n",
    "\n",
    "data_dir = '../data/domains'\n",
    "dom_file = f'{data_dir}/swissprot-pfam-domains.csv'\n",
    "results_dir = '../results/alignments'\n",
    "seqs = SeqIO.parse('../data/combined.fasta', format='fasta')\n",
    "seqdict = {s.id: str(s.seq) for s in seqs}\n",
    "pairs = pd.read_table(f'{data_dir}/domain_pairs.txt', header=None, sep='\\s+')\n",
    "df = pd.read_csv(dom_file, header=None, skiprows=1)\n",
    "df.columns = ['protein', 'domain', 'source',\n",
    "              'domain_id', 'start', 'end']\n",
    "df['length'] = df.apply(lambda x: x['end'] - x['start'], axis=1)\n",
    "domdict = dict(list(df.groupby('protein')))\n",
    "\n",
    "\n",
    "# Uncomment below to read in a different file\n",
    "#blast = f'{results_dir}/blast_domain_alignments.txt'\n",
    "blast = f'{results_dir}/blast/swissprot_alignments.txt'\n",
    "\n",
    "blast_df = pd.read_table(blast, header=None)"
   ]
  },
  {
   "cell_type": "code",
   "execution_count": null,
   "metadata": {},
   "outputs": [],
   "source": [
    "blast_df.columns = [\n",
    "    'cur.id', 'hit.id', 'i', \n",
    "    'qs', 'qe', 'he', 'hs', \n",
    "    'query_s', 'hit_s', 'aln_s', \n",
    "    'bitscore', 'evalue'\n",
    "]"
   ]
  },
  {
   "cell_type": "code",
   "execution_count": null,
   "metadata": {},
   "outputs": [],
   "source": [
    "blast_df = blast_df.dropna()"
   ]
  },
  {
   "cell_type": "code",
   "execution_count": null,
   "metadata": {},
   "outputs": [],
   "source": [
    "# Helper functions to parse blast output\n",
    "def select_f(x):\n",
    "    if x[2] != ' ':\n",
    "        return x\n",
    "    else:\n",
    "        return None\n",
    "    \n",
    "def parse_hit(q_start: int, q_end:int, h_start:int, h_end:int,\n",
    "              qseq: str, hseq: str, mseq: str):\n",
    "    q_coords = np.cumsum(np.array(list(qseq)) != '-')\n",
    "    h_coords = np.cumsum(np.array(list(hseq)) != '-')    \n",
    "    agg = list(zip(list(qseq), list(hseq), list(mseq), \n",
    "                   list(q_coords), list(h_coords)))    \n",
    "    matches = list(map(select_f, agg))\n",
    "    matches = list(filter(lambda x: x is not None, matches))\n",
    "    edges = list(map(lambda x: (x[3], x[4]), matches))\n",
    "    edges = pd.DataFrame(edges, columns=['source', 'target'])\n",
    "    return edges\n",
    "\n",
    "def interval_f(x, y):\n",
    "    intv = np.arange(x, y)\n",
    "    return set(intv)\n",
    "\n",
    "\n",
    "def blast_hits(name, group):\n",
    "    prot_x, prot_y, i = name    \n",
    "    #res = ground_truthing(prot_x, prot_y)\n",
    "    #pfamx, pfamy, total_x, total_y = res\n",
    "    \n",
    "    xy = list(g.apply(\n",
    "        lambda x: parse_hit(x['qs'], x['qe'], x['hs'], x['he'], \n",
    "                            x['query_s'], x['hit_s'], x['aln_s']), \n",
    "        axis=1\n",
    "    ).values)\n",
    "\n",
    "    xy = pd.concat(xy, axis=0)\n",
    "    return prot_x, prot_y, xy\n",
    "\n",
    "\n",
    "def domain_table(seq, dom):\n",
    "    \"\"\"\n",
    "    Parameters\n",
    "    ----------\n",
    "    seq : str\n",
    "        Sequence\n",
    "    dom : pd.DataFrame\n",
    "        Domain table\n",
    "\n",
    "    Returns\n",
    "    -------\n",
    "    pd.DataFrame\n",
    "        Per residue results, specifying if a residue\n",
    "        belongs to a specific domain. Columns\n",
    "        correspond to domains.\n",
    "    \"\"\"\n",
    "    pos = np.arange(len(str(seq)))\n",
    "    dpos = []\n",
    "    for d in dom.domain.values:\n",
    "        row = dom.loc[dom.domain == d]\n",
    "        s, e = row['start'].values[0], row['end'].values[0]\n",
    "        dpos.append(list(map(lambda x: is_interval(s, e, x), pos)))\n",
    "    dpos = pd.DataFrame(dpos, index=dom.domain.values)\n",
    "\n",
    "    # drop duplicates\n",
    "    dpos = dpos.loc[~dpos.index.duplicated(keep='first')]\n",
    "    return dpos.T\n",
    "\n",
    "def domain_score(edges, seq1, dom1, seq2, dom2):\n",
    "    \"\"\"\n",
    "    Parameters\n",
    "    ----------\n",
    "    seq : str\n",
    "        Sequence 1\n",
    "    dom : pd.DataFrame\n",
    "        Domain table 1\n",
    "    seq : str\n",
    "        Sequence 2\n",
    "    dom : pd.DataFrame\n",
    "        Domain table 2\n",
    "\n",
    "    Returns\n",
    "    -------\n",
    "    res : pd.DataFrame\n",
    "        True positive and false positive results\n",
    "    \"\"\"\n",
    "    df1 = domain_table(seq1, dom1)\n",
    "    df2 = domain_table(seq2, dom2)\n",
    "    res1 = pd.merge(edges, df1, left_on='source', right_index=True)\n",
    "    res2 = pd.merge(edges, df2, left_on='target', right_index=True)\n",
    "    resdf = pd.merge(res1, res2, left_on=['source', 'target'], right_on=['source', 'target'])\n",
    "    cols = list(set(dom1.domain.values) & set(dom2.domain.values))\n",
    "\n",
    "    tps, fps = [], []\n",
    "    for col in cols:\n",
    "        colx = col + '_x'\n",
    "        coly = col + '_y'\n",
    "        tp = np.sum(np.logical_and(resdf[colx].values, resdf[coly].values))\n",
    "        fp = np.sum(np.logical_xor(resdf[colx].values, resdf[coly].values))\n",
    "        tps.append(tp)\n",
    "        fps.append(fp)\n",
    "\n",
    "    res = pd.DataFrame({'tp': tps, 'fp': fps}, index=cols)\n",
    "    return res\n",
    "\n",
    "def is_interval(start, end, x):\n",
    "    if x > start and x < end:\n",
    "        return True\n",
    "    return False\n",
    "\n"
   ]
  },
  {
   "cell_type": "markdown",
   "metadata": {},
   "source": [
    "Group by ids"
   ]
  },
  {
   "cell_type": "code",
   "execution_count": null,
   "metadata": {},
   "outputs": [],
   "source": [
    "blast_groups = blast_df.groupby(['cur.id','hit.id','i'])"
   ]
  },
  {
   "cell_type": "code",
   "execution_count": null,
   "metadata": {},
   "outputs": [],
   "source": [
    "res = list(map(lambda x: blast_hits(*x), blast_groups))"
   ]
  },
  {
   "cell_type": "code",
   "execution_count": null,
   "metadata": {},
   "outputs": [],
   "source": [
    "def score_group(group):\n",
    "    prot_x, prot_y, edges = group\n",
    "    dom_x = domdict[prot_x]\n",
    "    dom_y = domdict[prot_y]\n",
    "    sx = seqdict[prot_x]\n",
    "    sy = seqdict[prot_y]\n",
    "    res = domain_score(edges, sx, dom_x, sy, dom_y)\n",
    "    tp = res.tp.sum()\n",
    "    fp = res.fp.sum()\n",
    "    return prot_x, prot_y, tp, fp"
   ]
  },
  {
   "cell_type": "code",
   "execution_count": null,
   "metadata": {},
   "outputs": [],
   "source": [
    "stats = list(map(score_group, res))"
   ]
  },
  {
   "cell_type": "code",
   "execution_count": null,
   "metadata": {},
   "outputs": [],
   "source": [
    "blast_stats"
   ]
  },
  {
   "cell_type": "code",
   "execution_count": null,
   "metadata": {},
   "outputs": [],
   "source": [
    "blast_stats = pd.DataFrame(stats)"
   ]
  },
  {
   "cell_type": "code",
   "execution_count": null,
   "metadata": {},
   "outputs": [],
   "source": [
    "blast_stats.to_csv('../results/alignments/blast/blast_alignment_scores.txt', sep='\\t', header=None, index=None)"
   ]
  },
  {
   "cell_type": "code",
   "execution_count": null,
   "metadata": {},
   "outputs": [],
   "source": [
    "def max_score(prot_x, prot_y):\n",
    "    dfx = domdict[prot_x].groupby('domain').max()\n",
    "    dfy = domdict[prot_y].groupby('domain').max()   \n",
    "    common_doms = set(dfx.index) & set(dfy.index)\n",
    "    dfx = dfx.loc[common_doms]\n",
    "    dfy = dfy.loc[common_doms]\n",
    "    l = np.minimum(dfx['length'], dfy['length'])\n",
    "    return np.sum(l)"
   ]
  },
  {
   "cell_type": "code",
   "execution_count": null,
   "metadata": {},
   "outputs": [],
   "source": [
    "blast_stats.apply(lambda x: max_score(x[0], x[1]), axis=1)"
   ]
  },
  {
   "cell_type": "code",
   "execution_count": null,
   "metadata": {},
   "outputs": [],
   "source": []
  },
  {
   "cell_type": "code",
   "execution_count": null,
   "metadata": {},
   "outputs": [],
   "source": [
    "r= res[0]"
   ]
  },
  {
   "cell_type": "code",
   "execution_count": null,
   "metadata": {},
   "outputs": [],
   "source": [
    "r"
   ]
  },
  {
   "cell_type": "code",
   "execution_count": null,
   "metadata": {},
   "outputs": [],
   "source": [
    "qseq.values[0]"
   ]
  },
  {
   "cell_type": "code",
   "execution_count": null,
   "metadata": {},
   "outputs": [],
   "source": [
    "int(x['qs'])"
   ]
  },
  {
   "cell_type": "code",
   "execution_count": null,
   "metadata": {},
   "outputs": [],
   "source": [
    "blast_groups"
   ]
  },
  {
   "cell_type": "code",
   "execution_count": null,
   "metadata": {},
   "outputs": [],
   "source": [
    "r, g = list(blast_groups)[2]"
   ]
  },
  {
   "cell_type": "code",
   "execution_count": null,
   "metadata": {},
   "outputs": [],
   "source": [
    "g"
   ]
  },
  {
   "cell_type": "code",
   "execution_count": null,
   "metadata": {},
   "outputs": [],
   "source": [
    "blast_df.i.value_counts()"
   ]
  },
  {
   "cell_type": "code",
   "execution_count": null,
   "metadata": {},
   "outputs": [],
   "source": [
    "x['query_s'].values[0]"
   ]
  },
  {
   "cell_type": "code",
   "execution_count": null,
   "metadata": {},
   "outputs": [],
   "source": [
    "x['hit_s'].values[0]"
   ]
  },
  {
   "cell_type": "code",
   "execution_count": null,
   "metadata": {},
   "outputs": [],
   "source": [
    "x['aln_s'].values[0]"
   ]
  },
  {
   "cell_type": "code",
   "execution_count": null,
   "metadata": {},
   "outputs": [],
   "source": []
  }
 ],
 "metadata": {
  "kernelspec": {
   "display_name": "Python 3",
   "language": "python",
   "name": "python3"
  },
  "language_info": {
   "codemirror_mode": {
    "name": "ipython",
    "version": 3
   },
   "file_extension": ".py",
   "mimetype": "text/x-python",
   "name": "python",
   "nbconvert_exporter": "python",
   "pygments_lexer": "ipython3",
   "version": "3.7.6"
  }
 },
 "nbformat": 4,
 "nbformat_minor": 2
}
